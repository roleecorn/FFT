{
 "cells": [
  {
   "cell_type": "code",
   "execution_count": 42,
   "metadata": {},
   "outputs": [],
   "source": [
    "import numpy as np\n",
    "from scipy.fftpack import fft,ifft\n",
    "import matplotlib.pyplot as plt\n",
    "import copy\n",
    "import csv\n"
   ]
  },
  {
   "cell_type": "code",
   "execution_count": 43,
   "metadata": {},
   "outputs": [],
   "source": [
    "#x軸，所有資料共用\n",
    "x=np.linspace(0,1,1400)\n"
   ]
  },
  {
   "cell_type": "code",
   "execution_count": 44,
   "metadata": {},
   "outputs": [],
   "source": [
    "#設定需要取樣的訊號，頻率分量只使用200\n",
    "y=7*np.sin(2*np.pi*200*x) \n"
   ]
  },
  {
   "cell_type": "code",
   "execution_count": 45,
   "metadata": {},
   "outputs": [],
   "source": [
    "#製作異常，取3個10區間的內容，加倍\n",
    "for i in range(100,110):\n",
    "    y[i]=2*y[i]\n",
    "for i in range(1000,1010):\n",
    "    y[i]=2*y[i]\n",
    "for i in range(500,510):\n",
    "    y[i]=2*y[i]\n"
   ]
  },
  {
   "cell_type": "code",
   "execution_count": 46,
   "metadata": {},
   "outputs": [
    {
     "data": {
      "text/plain": [
       "Text(0.5, 1.0, 'error data ')"
      ]
     },
     "execution_count": 46,
     "metadata": {},
     "output_type": "execute_result"
    },
    {
     "data": {
      "image/png": "[encoded data removed]",
      "text/plain": [
       "<Figure size 432x288 with 1 Axes>"
      ]
     },
     "metadata": {
      "needs_background": "light"
     },
     "output_type": "display_data"
    }
   ],
   "source": [
    "plt.subplot(221)\n",
    "plt.plot(x[50:150],y[50:150]) \n",
    "plt.title('error data ')"
   ]
  },
  {
   "cell_type": "code",
   "execution_count": 47,
   "metadata": {},
   "outputs": [
    {
     "data": {
      "text/plain": [
       "Text(0.5, 1.0, 'fft of errors data')"
      ]
     },
     "execution_count": 47,
     "metadata": {},
     "output_type": "execute_result"
    },
    {
     "data": {
      "image/png": "[encoded data removed]",
      "text/plain": [
       "<Figure size 432x288 with 1 Axes>"
      ]
     },
     "metadata": {
      "needs_background": "light"
     },
     "output_type": "display_data"
    }
   ],
   "source": [
    "#將有異常的資料丟入，測試\n",
    "yy=fft(y) #快速傅立葉變換\n",
    "ya=abs(yy)\n",
    "xf = np.arange(len(yy))\n",
    "plt.subplot(222)\n",
    "plt.plot(xf,ya,'r')\n",
    "plt.title('fft of errors data',fontsize=7,color='#7A378B')\n"
   ]
  },
  {
   "cell_type": "code",
   "execution_count": 48,
   "metadata": {},
   "outputs": [
    {
     "name": "stderr",
     "output_type": "stream",
     "text": [
      "C:\\Users\\Irene\\AppData\\Local\\Programs\\Python\\Python39\\lib\\site-packages\\matplotlib\\cbook\\__init__.py:1333: ComplexWarning: Casting complex values to real discards the imaginary part\n",
      "  return np.asarray(x, float)\n"
     ]
    },
    {
     "data": {
      "text/plain": [
       "Text(0.5, 1.0, 'ifft of errors fft')"
      ]
     },
     "execution_count": 48,
     "metadata": {},
     "output_type": "execute_result"
    },
    {
     "data": {
      "image/png": "[encoded data removed]",
      "text/plain": [
       "<Figure size 432x288 with 1 Axes>"
      ]
     },
     "metadata": {
      "needs_background": "light"
     },
     "output_type": "display_data"
    }
   ],
   "source": [
    "#逆向ifft\n",
    "z=ifft(yy)\n",
    "plt.subplot(221)\n",
    "plt.plot(x[50:150],z[50:150]) \n",
    "plt.title('ifft of errors fft')"
   ]
  },
  {
   "cell_type": "code",
   "execution_count": 54,
   "metadata": {},
   "outputs": [
    {
     "name": "stdout",
     "output_type": "stream",
     "text": [
      "abs,floor:-534.6966696658006upper:595.855479921839\n",
      "199 605.2353798307622\n",
      "200 4834.041196948557\n",
      "201 810.4487405027004\n",
      "1199 810.4487405027004\n",
      "1200 4834.041196948557\n",
      "1201 605.2353798307622\n",
      "not abs,floor:(-572.6717566775578+6.496390726949487e-16j)upper:(572.6717566775578+6.496390726949487e-16j)\n",
      "200 (2090.483267593111-4358.650479415512j)\n",
      "1200 (2090.483267593111+4358.650479415512j)\n"
     ]
    }
   ],
   "source": [
    "#使用3sigma，找出的極端值是原始應該被作為標準答案的200,1200\n",
    "mean=np.mean(ya)\n",
    "std=np.std(ya)\n",
    "floor=mean-3*std\n",
    "upper=mean+3*std\n",
    "print(f\"abs,floor:{floor}，upper:{upper}\")\n",
    "for i in range(len(ya)):\n",
    "    if ya[i]< floor or ya[i]> upper :\n",
    "        print(i,ya[i])\n",
    "mean=np.mean(yy)\n",
    "std=np.std(yy)\n",
    "floor=mean-3*std\n",
    "upper=mean+3*std\n",
    "print(f\"not abs,floor:{floor}，upper:{upper}\")\n",
    "for i in range(len(yy)):\n",
    "    if yy[i]< floor or yy[i]> upper :\n",
    "        print(i,yy[i])"
   ]
  },
  {
   "cell_type": "code",
   "execution_count": 58,
   "metadata": {},
   "outputs": [
    {
     "name": "stdout",
     "output_type": "stream",
     "text": [
      "not abs,floor:(-839.7195171028909+0j)，upper:(839.7195171028909+0j)\n",
      "200 (2855.471358689375-6141.691621045746j)\n",
      "203 (-1427.9998137985558+554.1698335111478j)\n",
      "1197 (-1427.9998137985558-554.1698335111478j)\n",
      "1200 (2855.471358689375+6141.691621045746j)\n",
      "abs,floor:-789.4700756607687，upper:871.7361463681017\n",
      "197 1273.6481937944925\n",
      "199 884.2519708210453\n",
      "200 6773.041609817473\n",
      "201 1225.6187128244096\n",
      "202 882.6598193978505\n",
      "203 1531.7596654118045\n",
      "1197 1531.7596654118045\n",
      "1198 882.6598193978505\n",
      "1199 1225.6187128244096\n",
      "1200 6773.041609817473\n",
      "1201 884.2519708210453\n",
      "1203 1273.6481937944925\n"
     ]
    }
   ],
   "source": [
    "#可能是異常值數量不足?\n",
    "x=np.linspace(0,1,1400)\n",
    "y=7*np.sin(2*np.pi*200*x) \n",
    "#製作異常，取3個10區間的內容，加倍\n",
    "for i in range(100,300):\n",
    "    y[i]=2*y[i]\n",
    "for i in range(1000,1200):\n",
    "    y[i]=2*y[i]\n",
    "for i in range(500,700):\n",
    "    y[i]=2*y[i]\n",
    "yy=fft(y)\n",
    "ya=abs(yy)\n",
    "#使用3sigma，找出的極端值是原始應該被作為標準答案的200,1200\n",
    "mean=np.mean(yy)\n",
    "std=np.std(yy)\n",
    "floor=mean-3*std\n",
    "upper=mean+3*std\n",
    "print(f\"not abs,floor:{floor}，upper:{upper}\")\n",
    "for i in range(len(ya)):\n",
    "    if yy[i]< floor or yy[i]> upper :\n",
    "        print(i,yy[i])\n",
    "mean=np.mean(ya)\n",
    "std=np.std(ya)\n",
    "floor=mean-3*std\n",
    "upper=mean+3*std\n",
    "print(f\"abs,floor:{floor}，upper:{upper}\")\n",
    "for i in range(len(ya)):\n",
    "    if ya[i]< floor or ya[i]> upper :\n",
    "        print(i,ya[i])\n",
    "#結果上並沒有區別，還是在正解周圍"
   ]
  },
  {
   "cell_type": "code",
   "execution_count": 72,
   "metadata": {},
   "outputs": [
    {
     "data": {
      "text/plain": [
       "50000"
      ]
     },
     "execution_count": 72,
     "metadata": {},
     "output_type": "execute_result"
    }
   ],
   "source": [
    "fc=open(f\"D:\\python-training\\colabbot\\coments\\AA同好會{1000}.csv\",'r',encoding='utf-8')\n",
    "file_read = csv.reader(fc)\n",
    "array = list(file_read)\n",
    "for i in range(1001,1050):\n",
    "    if i == 0 :\n",
    "        continue\n",
    "    fc=open(f\"D:\\python-training\\colabbot\\coments\\AA同好會{i}.csv\",'r',encoding='utf-8')\n",
    "    file_read = csv.reader(fc)\n",
    "    array2 = list(file_read)\n",
    "    array.extend(array2)\n",
    "\n",
    "for i in range(len(array)):\n",
    "    array[i][3]=len(array[i][3])\n",
    "len(array)"
   ]
  },
  {
   "cell_type": "code",
   "execution_count": 74,
   "metadata": {},
   "outputs": [],
   "source": [
    "words=[]\n",
    "for i in range(len(array)):\n",
    "    words.append(array[i][3])\n"
   ]
  },
  {
   "cell_type": "code",
   "execution_count": 75,
   "metadata": {},
   "outputs": [
    {
     "data": {
      "text/plain": [
       "Text(0.5, 1.0, 'words length')"
      ]
     },
     "execution_count": 75,
     "metadata": {},
     "output_type": "execute_result"
    },
    {
     "data": {
      "image/png": "[encoded data removed]",
      "text/plain": [
       "<Figure size 432x288 with 1 Axes>"
      ]
     },
     "metadata": {
      "needs_background": "light"
     },
     "output_type": "display_data"
    }
   ],
   "source": [
    "plt.subplot(221)\n",
    "plt.plot(words) \n",
    "plt.title('words length')"
   ]
  },
  {
   "cell_type": "code",
   "execution_count": 76,
   "metadata": {},
   "outputs": [],
   "source": [
    "wordfft=fft(words)"
   ]
  },
  {
   "cell_type": "code",
   "execution_count": 77,
   "metadata": {},
   "outputs": [
    {
     "data": {
      "text/plain": [
       "array([694768.           -0.j        ,  16170.5397779 -3453.22382681j,\n",
       "       -10490.79700625+1670.90190345j, ...,\n",
       "         -965.36811195 -861.08987852j, -10490.79700625-1670.90190345j,\n",
       "        16170.5397779 +3453.22382681j])"
      ]
     },
     "execution_count": 77,
     "metadata": {},
     "output_type": "execute_result"
    }
   ],
   "source": [
    "wordfft"
   ]
  },
  {
   "cell_type": "code",
   "execution_count": 78,
   "metadata": {},
   "outputs": [
    {
     "name": "stderr",
     "output_type": "stream",
     "text": [
      "C:\\Users\\Irene\\AppData\\Local\\Programs\\Python\\Python39\\lib\\site-packages\\matplotlib\\cbook\\__init__.py:1333: ComplexWarning: Casting complex values to real discards the imaginary part\n",
      "  return np.asarray(x, float)\n"
     ]
    },
    {
     "data": {
      "text/plain": [
       "Text(0.5, 1.0, 'FFT of words)')"
      ]
     },
     "execution_count": 78,
     "metadata": {},
     "output_type": "execute_result"
    },
    {
     "data": {
      "image/png": "[encoded data removed]",
      "text/plain": [
       "<Figure size 432x288 with 1 Axes>"
      ]
     },
     "metadata": {
      "needs_background": "light"
     },
     "output_type": "display_data"
    }
   ],
   "source": [
    "plt.subplot(222)\n",
    "plt.plot(np.arange(1000),wordfft[:1000],'r')\n",
    "plt.title('FFT of words)',fontsize=7,color='#7A378B')"
   ]
  },
  {
   "cell_type": "code",
   "execution_count": 79,
   "metadata": {},
   "outputs": [],
   "source": [
    "m=max(words)\n",
    "norwords=[]\n",
    "for i in range(len(words)):\n",
    "    norwords.append(words[i]/m)\n"
   ]
  },
  {
   "cell_type": "code",
   "execution_count": 80,
   "metadata": {},
   "outputs": [],
   "source": [
    "nwordfft=fft(norwords)"
   ]
  },
  {
   "cell_type": "code",
   "execution_count": 81,
   "metadata": {},
   "outputs": [
    {
     "name": "stderr",
     "output_type": "stream",
     "text": [
      "C:\\Users\\Irene\\AppData\\Local\\Programs\\Python\\Python39\\lib\\site-packages\\matplotlib\\cbook\\__init__.py:1333: ComplexWarning: Casting complex values to real discards the imaginary part\n",
      "  return np.asarray(x, float)\n"
     ]
    },
    {
     "data": {
      "text/plain": [
       "Text(0.5, 1.0, 'FFT of words)')"
      ]
     },
     "execution_count": 81,
     "metadata": {},
     "output_type": "execute_result"
    },
    {
     "data": {
      "image/png": "[encoded data removed]",
      "text/plain": [
       "<Figure size 432x288 with 1 Axes>"
      ]
     },
     "metadata": {
      "needs_background": "light"
     },
     "output_type": "display_data"
    }
   ],
   "source": [
    "plt.subplot(222)\n",
    "plt.plot(np.arange(1000),nwordfft[:1000],'r')\n",
    "plt.title('FFT of words)',fontsize=7,color='#7A378B')"
   ]
  },
  {
   "cell_type": "code",
   "execution_count": 82,
   "metadata": {},
   "outputs": [
    {
     "name": "stderr",
     "output_type": "stream",
     "text": [
      "C:\\Users\\Irene\\AppData\\Local\\Programs\\Python\\Python39\\lib\\site-packages\\matplotlib\\cbook\\__init__.py:1333: ComplexWarning: Casting complex values to real discards the imaginary part\n",
      "  return np.asarray(x, float)\n"
     ]
    },
    {
     "data": {
      "text/plain": [
       "Text(0.5, 1.0, 'ifft of wordss fft')"
      ]
     },
     "execution_count": 82,
     "metadata": {},
     "output_type": "execute_result"
    },
    {
     "data": {
      "image/png": "[encoded data removed]",
      "text/plain": [
       "<Figure size 432x288 with 1 Axes>"
      ]
     },
     "metadata": {
      "needs_background": "light"
     },
     "output_type": "display_data"
    }
   ],
   "source": [
    "resume=ifft(wordfft)\n",
    "plt.subplot(221)\n",
    "plt.plot(range(100),resume[0:100]) \n",
    "plt.title('ifft of wordss fft')"
   ]
  },
  {
   "cell_type": "code",
   "execution_count": 83,
   "metadata": {},
   "outputs": [
    {
     "data": {
      "text/plain": [
       "Text(0.5, 1.0, 'words like')"
      ]
     },
     "execution_count": 83,
     "metadata": {},
     "output_type": "execute_result"
    },
    {
     "data": {
      "image/png": "[encoded data removed]",
      "text/plain": [
       "<Figure size 432x288 with 1 Axes>"
      ]
     },
     "metadata": {
      "needs_background": "light"
     },
     "output_type": "display_data"
    }
   ],
   "source": [
    "plt.subplot(221)\n",
    "plt.plot(range(100),words[0:100]) \n",
    "plt.title('words like')"
   ]
  },
  {
   "cell_type": "code",
   "execution_count": 84,
   "metadata": {},
   "outputs": [
    {
     "data": {
      "text/plain": [
       "Text(0.5, 1.0, 'error')"
      ]
     },
     "execution_count": 84,
     "metadata": {},
     "output_type": "execute_result"
    },
    {
     "data": {
      "image/png": "[encoded data removed]",
      "text/plain": [
       "<Figure size 432x288 with 1 Axes>"
      ]
     },
     "metadata": {
      "needs_background": "light"
     },
     "output_type": "display_data"
    }
   ],
   "source": [
    "error=[]\n",
    "for i in range(100):\n",
    "    error.append(words[i]-resume[i])\n",
    "plt.subplot(221)\n",
    "plt.plot(range(100),error[0:100]) \n",
    "plt.title('error')"
   ]
  },
  {
   "cell_type": "code",
   "execution_count": 85,
   "metadata": {},
   "outputs": [],
   "source": [
    "with open(f\"D:\\python-training\\words.csv\", 'w', newline='') as file:\n",
    "    writer = csv.writer(file,delimiter=',')\n",
    "    writer.writerow(words)"
   ]
  },
  {
   "cell_type": "code",
   "execution_count": null,
   "metadata": {},
   "outputs": [],
   "source": []
  }
 ],
 "metadata": {
  "kernelspec": {
   "display_name": "Python 3 (ipykernel)",
   "language": "python",
   "name": "python3"
  },
  "language_info": {
   "codemirror_mode": {
    "name": "ipython",
    "version": 3
   },
   "file_extension": ".py",
   "mimetype": "text/x-python",
   "name": "python",
   "nbconvert_exporter": "python",
   "pygments_lexer": "ipython3",
   "version": "3.9.6"
  },
  "vscode": {
   "interpreter": {
    "hash": "a3dbe704cc946e85541587f317716df9025762b94e3aa7bf14d63a78bc129adb"
   }
  }
 },
 "nbformat": 4,
 "nbformat_minor": 2
}
